{
 "cells": [
  {
   "cell_type": "code",
   "execution_count": null,
   "id": "aeda0802-c780-41b4-b027-114037139367",
   "metadata": {},
   "outputs": [],
   "source": [
    "#include<stdio.h>\n",
    " #include<conio.h>\n",
    " int  main()\n",
    " {\n",
    "    float HD,CC,TS;\n",
    "    int Grade;\n",
    "    printf(\"\\nEnter the hardness\\t\");\n",
    "    scanf(\"%f\",&HD);\n",
    "    printf(\"\\nEnter the carbon copy\\t\");\n",
    "    scanf(\"%f\",&CC);\n",
    "    printf(\"\\nEnter the Tensile strength\\t\");\n",
    "    scanf(\"%f\",&TS);\n",
    "    if(HD>50 && CC<0.7 && TS<5600)\n",
    "    {\n",
    "        Grade=10;\n",
    "    }\n",
    "    else if(HD>50 && CC<0.7)\n",
    "    {\n",
    "        Grade=9;\n",
    "    }\n",
    "    else if(CC<0.7 && TS<5600)\n",
    "    {\n",
    "        Grade=8;\n",
    "    }\n",
    "    else if(HD>50 && TS<5600)\n",
    "    {\n",
    "        Grade=7;\n",
    "    }\n",
    "    else if(HD>50 || CC<0.7 || TS<5600)\n",
    "    {\n",
    "        Grade=6;\n",
    "    }\n",
    "    else{\n",
    "        Grade=5;\n",
    "    }\n",
    "    \n",
    "    printf(\"%d\",Grade);\n",
    "    return 0;\n",
    " }"
   ]
  },
  {
   "cell_type": "code",
   "execution_count": null,
   "id": "48b41807-d354-4abe-af2a-274979cfd3ee",
   "metadata": {},
   "outputs": [],
   "source": [
    "#include<stdio.h>\n",
    "#include<conio.h>\n",
    "int main()\n",
    "{\n",
    "    int a,b,c,d,min;\n",
    "    printf(\"\\nEnter the value of a b c and c\");\n",
    "    scanf(\"%d %d %d %d\",&a,&b,&c,&d);\n",
    "    min=a<b && a<c && a<d?a:b<c && b<d? b: c<d?c: d;\n",
    "    printf(\"%d\",min);\n",
    "    return 0; \n",
    "}"
   ]
  },
  {
   "cell_type": "code",
   "execution_count": null,
   "id": "48b1c681-a30e-4103-aafe-82b4ec8af6e6",
   "metadata": {},
   "outputs": [],
   "source": [
    "#include<stdio.h>\n",
    "#include<conio.h>\n",
    "int main()\n",
    "{\n",
    "    float i;\n",
    "    i=1+(float)5 /(int)20;\n",
    "    printf(\"%f\",i);\n",
    "    return 0;\n",
    "}\n",
    "\n",
    "//(float)5=5.0\n",
    "// (int)20=20\n",
    "//5.0/20=0.25\n",
    "//1+0.25=1.25 output"
   ]
  },
  {
   "cell_type": "code",
   "execution_count": null,
   "id": "f8e0ccbe-8a14-4e11-9288-d69563bbbe4a",
   "metadata": {},
   "outputs": [],
   "source": [
    "#include<stdio.h>\n",
    "#include<conio.h>\n",
    "int main()\n",
    "{\n",
    "    float hey=5.25;\n",
    "    double hi=5.25;\n",
    "    if(hey==hi)\n",
    "    {\n",
    "        printf(\"Hey! How aare you\");\n",
    "    }\n",
    "    else{\n",
    "        printf(\"Hii i am good\");\n",
    " getch();   }\n",
    "}\n",
    "//Hey! How are you output"
   ]
  },
  {
   "cell_type": "code",
   "execution_count": null,
   "id": "e79a7fa6-fb11-439d-b8be-ee8dd85dc85f",
   "metadata": {},
   "outputs": [],
   "source": [
    "ARMSTRONG NUMBER BETWEEN 100 TO 999\n",
    "#include<stdio.h>\n",
    "#include<conio.h>\n",
    "int main()\n",
    "{\n",
    "    int n=100,c=0,d=0,temp;\n",
    "    for(n;n<=999;n++)\n",
    "    {\n",
    "        temp=n;\n",
    "        for(temp;temp>0;temp=temp/10)\n",
    "        {\n",
    "            d=temp%10;\n",
    "            c+=d*d*d;\n",
    "        }\n",
    "        if(n==c)\n",
    "        {\n",
    "            printf(\"%d\\t\",n);\n",
    "        }\n",
    "        c=0;\n",
    "    }\n",
    "    return 0;\n",
    "}"
   ]
  },
  {
   "cell_type": "code",
   "execution_count": 1,
   "id": "d1935814-b601-4298-a9c0-2ca1f32f4b42",
   "metadata": {},
   "outputs": [
    {
     "ename": "SyntaxError",
     "evalue": "invalid syntax (2598462215.py, line 1)",
     "output_type": "error",
     "traceback": [
      "\u001b[0;36m  Cell \u001b[0;32mIn[1], line 1\u001b[0;36m\u001b[0m\n\u001b[0;31m    WITHOUT CONTENIUE\u001b[0m\n\u001b[0m            ^\u001b[0m\n\u001b[0;31mSyntaxError\u001b[0m\u001b[0;31m:\u001b[0m invalid syntax\n"
     ]
    }
   ],
   "source": [
    "WITHOUT CONTENIUE\n",
    "#include<stdio.h>\n",
    "#include<conio.h>\n",
    "void main()\n",
    "{\n",
    "    for(int i=1;i<6;i++)\n",
    "    {\n",
    "        if(i!=3)\n",
    "        {\n",
    "            printf("
   ]
  },
  {
   "cell_type": "code",
   "execution_count": null,
   "id": "c4444b30-6d62-40fd-8215-3909b4fade33",
   "metadata": {},
   "outputs": [],
   "source": []
  }
 ],
 "metadata": {
  "kernelspec": {
   "display_name": "Python 3 (ipykernel)",
   "language": "python",
   "name": "python3"
  },
  "language_info": {
   "codemirror_mode": {
    "name": "ipython",
    "version": 3
   },
   "file_extension": ".py",
   "mimetype": "text/x-python",
   "name": "python",
   "nbconvert_exporter": "python",
   "pygments_lexer": "ipython3",
   "version": "3.10.8"
  }
 },
 "nbformat": 4,
 "nbformat_minor": 5
}
